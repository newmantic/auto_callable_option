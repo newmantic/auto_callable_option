{
  "nbformat": 4,
  "nbformat_minor": 0,
  "metadata": {
    "colab": {
      "provenance": [],
      "authorship_tag": "ABX9TyNS8sP2cYFhYAtTClmBZAKb",
      "include_colab_link": true
    },
    "kernelspec": {
      "name": "python3",
      "display_name": "Python 3"
    },
    "language_info": {
      "name": "python"
    }
  },
  "cells": [
    {
      "cell_type": "markdown",
      "metadata": {
        "id": "view-in-github",
        "colab_type": "text"
      },
      "source": [
        "<a href=\"https://colab.research.google.com/github/newmantic/auto_callable_option/blob/main/auto_callable_option.ipynb\" target=\"_parent\"><img src=\"https://colab.research.google.com/assets/colab-badge.svg\" alt=\"Open In Colab\"/></a>"
      ]
    },
    {
      "cell_type": "code",
      "execution_count": 1,
      "metadata": {
        "id": "GlaZgeQs_0Yo",
        "colab": {
          "base_uri": "https://localhost:8080/"
        },
        "outputId": "a3d3d7df-031c-4858-e98d-16a12d771864"
      },
      "outputs": [
        {
          "output_type": "stream",
          "name": "stdout",
          "text": [
            "Expected Payoff: 0.01\n"
          ]
        }
      ],
      "source": [
        "import numpy as np\n",
        "\n",
        "class AutoCallableOption:\n",
        "    def __init__(self, initial_price, strike_price, call_barrier, maturity, coupon_rate, risk_free_rate, volatility):\n",
        "        self.initial_price = initial_price\n",
        "        self.strike_price = strike_price\n",
        "        self.call_barrier = call_barrier\n",
        "        self.maturity = maturity\n",
        "        self.coupon_rate = coupon_rate\n",
        "        self.risk_free_rate = risk_free_rate\n",
        "        self.volatility = volatility\n",
        "\n",
        "    def simulate_price_path(self, n_steps, n_scenarios):\n",
        "        dt = self.maturity / n_steps\n",
        "        price_paths = np.zeros((n_steps + 1, n_scenarios))\n",
        "        price_paths[0] = self.initial_price\n",
        "\n",
        "        for t in range(1, n_steps + 1):\n",
        "            z = np.random.standard_normal(n_scenarios)\n",
        "            price_paths[t] = price_paths[t - 1] * np.exp((self.risk_free_rate - 0.5 * self.volatility ** 2) * dt + self.volatility * np.sqrt(dt) * z)\n",
        "\n",
        "        return price_paths\n",
        "\n",
        "    def calculate_payoff(self, price_paths):\n",
        "        for t in range(1, price_paths.shape[0]):\n",
        "            if np.all(price_paths[t] >= self.call_barrier):\n",
        "                # Option is called, and coupon is paid\n",
        "                return self.coupon_rate * t / price_paths.shape[0]\n",
        "\n",
        "        # Option not called, payoff at maturity\n",
        "        final_price = price_paths[-1]\n",
        "        return max(final_price - self.strike_price, 0)\n",
        "\n",
        "    def run_simulation(self, n_steps=252, n_scenarios=10000):\n",
        "        price_paths = self.simulate_price_path(n_steps, n_scenarios)\n",
        "        payoffs = np.zeros(n_scenarios)\n",
        "\n",
        "        for i in range(n_scenarios):\n",
        "            payoffs[i] = self.calculate_payoff(price_paths[:, i])\n",
        "\n",
        "        return np.mean(payoffs)\n",
        "\n",
        "# Example usage\n",
        "if __name__ == \"__main__\":\n",
        "    option = AutoCallableOption(\n",
        "        initial_price=100,\n",
        "        strike_price=110,\n",
        "        call_barrier=105,\n",
        "        maturity=1,\n",
        "        coupon_rate=0.05,\n",
        "        risk_free_rate=0.02,\n",
        "        volatility=0.2\n",
        "    )\n",
        "\n",
        "    expected_payoff = option.run_simulation()\n",
        "    print(f\"Expected Payoff: {expected_payoff:.2f}\")"
      ]
    }
  ]
}